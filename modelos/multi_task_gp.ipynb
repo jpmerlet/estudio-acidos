{
 "cells": [
  {
   "cell_type": "code",
   "execution_count": 52,
   "metadata": {},
   "outputs": [
    {
     "name": "stdout",
     "output_type": "stream",
     "text": [
      "Populating the interactive namespace from numpy and matplotlib\n"
     ]
    }
   ],
   "source": [
    "import pandas as pd\n",
    "import GPy\n",
    "import matplotlib.pyplot as plt\n",
    "from jupyterthemes import jtplot\n",
    "import numpy as np\n",
    "%pylab inline\n",
    "import pylab as pb\n",
    "pylab.ion()\n",
    "jtplot.style(theme='onedork')"
   ]
  },
  {
   "cell_type": "markdown",
   "metadata": {},
   "source": [
    "# Unidades de las tablas\n",
    "<br><br>\n",
    "## Archivo: 000 Analisis_Produccion-consumos CUAS.xlsx\n",
    "<br><br>\n",
    "\n",
    "### Primera tabla:\n",
    "Esta tabla es de produccion de cobre\n",
    "* Toneladas de cobre fino producido\n",
    "<br><br>\n",
    "\n",
    "### Segunda tabla:\n",
    "Esta tabla es de produccion de cobre, pero separado por tamaño de la mina:\n",
    "* Toneladas de cobre fino producido\n",
    "<br><br>\n",
    "\n",
    "### Tercera tabla:\n",
    "Esta tabla es lo que consumimos de acido, considerando lo producido más lo importado (uno en cada fila):\n",
    "* Toneladas de acido\n",
    "\n",
    "## Archivo: 000 Analisis_Produccion-consumos CUAS.xlsx\n"
   ]
  },
  {
   "cell_type": "code",
   "execution_count": 2,
   "metadata": {
    "collapsed": true
   },
   "outputs": [],
   "source": [
    "# cargar Hoja1 del archivo: 000 Analisis _ Produccion-consumos CUAS.xlsx\n",
    "# para crear los dataframes con produccion de fino y consumo de acido en\n",
    "# indexados por el tiempo\n",
    "\n",
    "folder = '/Users/juanpablodonosomerlet/Desktop/estudio-acidos/data/'\n",
    "xls = pd.ExcelFile(folder + '000 Analisis _ Produccion-consumos CUAS.xlsx')\n",
    "df1 = pd.read_excel(xls, 'Hoja1')\n",
    "nombres_df1 = list(df1.columns.values)"
   ]
  },
  {
   "cell_type": "code",
   "execution_count": 53,
   "metadata": {
    "collapsed": true
   },
   "outputs": [],
   "source": [
    "# funcion para plotear multi-task GP (Ricardo Andrade-Pacheco)\n",
    "def plot_2outputs(m,xlim,ylim):\n",
    "    fig = pb.figure(figsize=(12,8))\n",
    "    #Output 1\n",
    "    ax1 = fig.add_subplot(211)\n",
    "    ax1.set_xlim(xlim)\n",
    "    ax1.set_title('Output 1')\n",
    "    m.plot(plot_limits=xlim,fixed_inputs=[(1,0)],which_data_rows=slice(0,100),ax=ax1)\n",
    "    ax1.plot(Xt1[:,:1],Yt1,'rx',mew=1.5)\n",
    "    #Output 2\n",
    "    ax2 = fig.add_subplot(212)\n",
    "    ax2.set_xlim(xlim)\n",
    "    ax2.set_title('Output 2')\n",
    "    m.plot(plot_limits=xlim,fixed_inputs=[(1,1)],which_data_rows=slice(100,200),ax=ax2)\n",
    "    ax2.plot(Xt2[:,:1],Yt2,'rx',mew=1.5)"
   ]
  },
  {
   "cell_type": "code",
   "execution_count": 36,
   "metadata": {},
   "outputs": [],
   "source": [
    "# tabla1: produccion de fino, toda la informacion\n",
    "tabla1 = df1.loc[:7,nombres_df1[2:18]]\n",
    "tabla1 = tabla1.dropna()\n",
    "tabla1.iloc[0].apply(int)\n",
    "años = tabla1.iloc[0].apply(int)\n",
    "dicc_years = {}\n",
    "for i,year in enumerate(años):\n",
    "    dicc_years[nombres_df1[2:18][i]] = year\n",
    "tabla1 = tabla1.rename(dicc_years, axis='columns').loc[1:,:]\n",
    "tabla1 = tabla1.append(tabla1.sum(), ignore_index=True)\n",
    "\n",
    "# tabla2: consumo de acido\n",
    "tabla2 = df1.loc[60:,nombres_df1[2:24]]\n",
    "años2= tabla2.iloc[0].apply(int)\n",
    "dicc_years2 = {}\n",
    "for i,year in enumerate(años2):\n",
    "    dicc_years2[nombres_df1[2:24][i]] = year\n",
    "tabla2 = tabla2.rename(dicc_years2, axis='columns').loc[61:,:]\n",
    "\n",
    "# tabla2: Leyes promedio de cobre anuales\n",
    "xls_leyes = pd.ExcelFile(folder + 'Leyes Cu.xlsx')\n",
    "hoja_leyes = xls_leyes.sheet_names[0]\n",
    "df_leyes = pd.read_csv(folder+'leyes.csv')\n",
    "# xls_leyes.sheet_names[3]"
   ]
  },
  {
   "cell_type": "code",
   "execution_count": 7,
   "metadata": {
    "scrolled": true
   },
   "outputs": [
    {
     "data": {
      "text/html": [
       "<div>\n",
       "<style scoped>\n",
       "    .dataframe tbody tr th:only-of-type {\n",
       "        vertical-align: middle;\n",
       "    }\n",
       "\n",
       "    .dataframe tbody tr th {\n",
       "        vertical-align: top;\n",
       "    }\n",
       "\n",
       "    .dataframe thead th {\n",
       "        text-align: right;\n",
       "    }\n",
       "</style>\n",
       "<table border=\"1\" class=\"dataframe\">\n",
       "  <thead>\n",
       "    <tr style=\"text-align: right;\">\n",
       "      <th></th>\n",
       "      <th>Produccion Cu fino anual</th>\n",
       "    </tr>\n",
       "  </thead>\n",
       "  <tbody>\n",
       "    <tr>\n",
       "      <th>1999</th>\n",
       "      <td>2.15677e+06</td>\n",
       "    </tr>\n",
       "    <tr>\n",
       "      <th>2000</th>\n",
       "      <td>2.15875e+06</td>\n",
       "    </tr>\n",
       "    <tr>\n",
       "      <th>2001</th>\n",
       "      <td>2.36699e+06</td>\n",
       "    </tr>\n",
       "    <tr>\n",
       "      <th>2002</th>\n",
       "      <td>2.35979e+06</td>\n",
       "    </tr>\n",
       "    <tr>\n",
       "      <th>2003</th>\n",
       "      <td>2.39372e+06</td>\n",
       "    </tr>\n",
       "    <tr>\n",
       "      <th>2004</th>\n",
       "      <td>2.31927e+06</td>\n",
       "    </tr>\n",
       "    <tr>\n",
       "      <th>2005</th>\n",
       "      <td>2.26331e+06</td>\n",
       "    </tr>\n",
       "    <tr>\n",
       "      <th>2006</th>\n",
       "      <td>2.23252e+06</td>\n",
       "    </tr>\n",
       "    <tr>\n",
       "      <th>2007</th>\n",
       "      <td>2.40869e+06</td>\n",
       "    </tr>\n",
       "    <tr>\n",
       "      <th>2008</th>\n",
       "      <td>2.5306e+06</td>\n",
       "    </tr>\n",
       "    <tr>\n",
       "      <th>2009</th>\n",
       "      <td>2.72399e+06</td>\n",
       "    </tr>\n",
       "    <tr>\n",
       "      <th>2010</th>\n",
       "      <td>2.67646e+06</td>\n",
       "    </tr>\n",
       "    <tr>\n",
       "      <th>2011</th>\n",
       "      <td>2.61916e+06</td>\n",
       "    </tr>\n",
       "    <tr>\n",
       "      <th>2012</th>\n",
       "      <td>2.6001e+06</td>\n",
       "    </tr>\n",
       "    <tr>\n",
       "      <th>2013</th>\n",
       "      <td>2.46863e+06</td>\n",
       "    </tr>\n",
       "    <tr>\n",
       "      <th>2014</th>\n",
       "      <td>2.36847e+06</td>\n",
       "    </tr>\n",
       "  </tbody>\n",
       "</table>\n",
       "</div>"
      ],
      "text/plain": [
       "     Produccion Cu fino anual\n",
       "1999              2.15677e+06\n",
       "2000              2.15875e+06\n",
       "2001              2.36699e+06\n",
       "2002              2.35979e+06\n",
       "2003              2.39372e+06\n",
       "2004              2.31927e+06\n",
       "2005              2.26331e+06\n",
       "2006              2.23252e+06\n",
       "2007              2.40869e+06\n",
       "2008               2.5306e+06\n",
       "2009              2.72399e+06\n",
       "2010              2.67646e+06\n",
       "2011              2.61916e+06\n",
       "2012               2.6001e+06\n",
       "2013              2.46863e+06\n",
       "2014              2.36847e+06"
      ]
     },
     "execution_count": 7,
     "metadata": {},
     "output_type": "execute_result"
    }
   ],
   "source": [
    "# dataframe de la produccion anual de fino \n",
    "produccion_fino = pd.DataFrame(tabla1.loc[6,:], index=list(tabla1.columns.values))\n",
    "produccion_fino = produccion_fino.rename({6:'Produccion Cu fino anual'}, axis='columns')\n",
    "produccion_fino\n",
    "\n",
    "# dataFrame del consumo total de acido\n",
    "consumo_acido = tabla2.transpose()\n",
    "consumo_acido = consumo_acido.rename({61:'Produccion',\n",
    "                                      62:'Importaciones',63:'Total'}, axis='columns')\n",
    "produccion_fino\n",
    "# print(consumo_acido.astype(int))\n",
    "# consumo_acido.astype(int)"
   ]
  },
  {
   "cell_type": "code",
   "execution_count": 8,
   "metadata": {
    "scrolled": false
   },
   "outputs": [
    {
     "data": {
      "image/png": "[encoded data removed]",
      "text/plain": [
       "<matplotlib.figure.Figure at 0x111248550>"
      ]
     },
     "metadata": {},
     "output_type": "display_data"
    },
    {
     "data": {
      "image/png": "[encoded data removed]",
      "text/plain": [
       "<matplotlib.figure.Figure at 0x111248278>"
      ]
     },
     "metadata": {},
     "output_type": "display_data"
    }
   ],
   "source": [
    "# fig, ax = plt.subplot()\n",
    "figura, axe = plt.subplots(nrows=1, ncols=1)\n",
    "produccion_fino.plot(style='bo-', ax=axe, grid=True)\n",
    "\n",
    "figura, axe = plt.subplots(nrows=1, ncols=1)\n",
    "consumo_acido.plot(ax=axe, grid=True)\n",
    "plt.show()"
   ]
  },
  {
   "cell_type": "code",
   "execution_count": 47,
   "metadata": {},
   "outputs": [
    {
     "data": {
      "text/plain": [
       "(22, 1)"
      ]
     },
     "execution_count": 47,
     "metadata": {},
     "output_type": "execute_result"
    }
   ],
   "source": [
    "# multitask gaussian process\n",
    "# datos de fino como matrices\n",
    "t_cu_fino = produccion_fino.index.values\n",
    "t_cu_fino = np.reshape(t_cu_fino,newshape=(t_cu_fino.shape[0],1))\n",
    "prod_fino = produccion_fino.as_matrix()\n",
    "\n",
    "# datos de acido como matrices\n",
    "t_ac = consumo_acido.index.values\n",
    "t_ac = np.reshape(t_ac, newshape=(t_ac.shape[0],1))\n",
    "prod_ac = consumo_acido.Produccion.as_matrix()\n",
    "prod_ac = np.reshape(prod_ac, newshape=(prod_ac.shape[0],1))\n",
    "consumo_ac = consumo_acido.Total.as_matrix()\n",
    "# imp_ac = consumo_acido.Importaciones.as_matrix()\n",
    "\n",
    "# datos de ley como matrices\n",
    "t_leyes = df_leyes.year.as_matrix()\n",
    "t_leyes = np.reshape(t_leyes, newshape=(t_leyes.shape[0],1))\n",
    "leyes = df_leyes.ley.as_matrix()\n",
    "leyes = np.reshape(leyes, newshape=(leyes.shape[0],1))"
   ]
  },
  {
   "cell_type": "code",
   "execution_count": 54,
   "metadata": {},
   "outputs": [
    {
     "data": {
      "text/plain": [
       "<paramz.optimization.optimization.opt_lbfgsb at 0x111d037b8>"
      ]
     },
     "execution_count": 54,
     "metadata": {},
     "output_type": "execute_result"
    }
   ],
   "source": [
    "# definicion del kernel\n",
    "K = GPy.kern.RBF(1)\n",
    "icm = GPy.util.multioutput.ICM(input_dim=1, num_outputs=2, kernel=K)\n",
    "modelo = GPy.models.GPCoregionalizedRegression([t_ac,t_leyes],[prod_ac, leyes])\n",
    "modelo.optimize()"
   ]
  },
  {
   "cell_type": "code",
   "execution_count": 55,
   "metadata": {},
   "outputs": [
    {
     "ename": "TypeError",
     "evalue": "plot_2outputs() missing 2 required positional arguments: 'xlim' and 'ylim'",
     "output_type": "error",
     "traceback": [
      "\u001b[0;31m---------------------------------------------------------------------------\u001b[0m",
      "\u001b[0;31mTypeError\u001b[0m                                 Traceback (most recent call last)",
      "\u001b[0;32m<ipython-input-55-d573354b2feb>\u001b[0m in \u001b[0;36m<module>\u001b[0;34m()\u001b[0m\n\u001b[1;32m      1\u001b[0m \u001b[0;31m# graficar resultados\u001b[0m\u001b[0;34m\u001b[0m\u001b[0;34m\u001b[0m\u001b[0m\n\u001b[0;32m----> 2\u001b[0;31m \u001b[0mplot_2outputs\u001b[0m\u001b[0;34m(\u001b[0m\u001b[0mmodelo\u001b[0m\u001b[0;34m)\u001b[0m\u001b[0;34m\u001b[0m\u001b[0m\n\u001b[0m",
      "\u001b[0;31mTypeError\u001b[0m: plot_2outputs() missing 2 required positional arguments: 'xlim' and 'ylim'"
     ]
    }
   ],
   "source": [
    "# graficar resultados\n",
    "plot_2outputs(modelo)"
   ]
  }
 ],
 "metadata": {
  "kernelspec": {
   "display_name": "Python 3",
   "language": "python",
   "name": "python3"
  },
  "language_info": {
   "codemirror_mode": {
    "name": "ipython",
    "version": 3
   },
   "file_extension": ".py",
   "mimetype": "text/x-python",
   "name": "python",
   "nbconvert_exporter": "python",
   "pygments_lexer": "ipython3",
   "version": "3.6.1"
  }
 },
 "nbformat": 4,
 "nbformat_minor": 2
}
